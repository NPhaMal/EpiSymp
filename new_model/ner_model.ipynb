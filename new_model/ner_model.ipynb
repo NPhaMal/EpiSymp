{
 "cells": [
  {
   "cell_type": "code",
   "execution_count": 1,
   "metadata": {},
   "outputs": [
    {
     "name": "stdout",
     "output_type": "stream",
     "text": [
      "Defaulting to user installation because normal site-packages is not writeable\n",
      "Requirement already satisfied: spacy in /home/pk/.local/lib/python3.12/site-packages (3.7.2)\n",
      "Requirement already satisfied: spacy-legacy<3.1.0,>=3.0.11 in /home/pk/.local/lib/python3.12/site-packages (from spacy) (3.0.12)\n",
      "Requirement already satisfied: spacy-loggers<2.0.0,>=1.0.0 in /home/pk/.local/lib/python3.12/site-packages (from spacy) (1.0.5)\n",
      "Requirement already satisfied: murmurhash<1.1.0,>=0.28.0 in /home/pk/.local/lib/python3.12/site-packages (from spacy) (1.0.10)\n",
      "Requirement already satisfied: cymem<2.1.0,>=2.0.2 in /home/pk/.local/lib/python3.12/site-packages (from spacy) (2.0.8)\n",
      "Requirement already satisfied: preshed<3.1.0,>=3.0.2 in /home/pk/.local/lib/python3.12/site-packages (from spacy) (3.0.9)\n",
      "Requirement already satisfied: thinc<8.3.0,>=8.1.8 in /home/pk/.local/lib/python3.12/site-packages (from spacy) (8.2.2)\n",
      "Requirement already satisfied: wasabi<1.2.0,>=0.9.1 in /home/pk/.local/lib/python3.12/site-packages (from spacy) (1.1.2)\n",
      "Requirement already satisfied: srsly<3.0.0,>=2.4.3 in /home/pk/.local/lib/python3.12/site-packages (from spacy) (2.4.8)\n",
      "Requirement already satisfied: catalogue<2.1.0,>=2.0.6 in /home/pk/.local/lib/python3.12/site-packages (from spacy) (2.0.10)\n",
      "Requirement already satisfied: weasel<0.4.0,>=0.1.0 in /home/pk/.local/lib/python3.12/site-packages (from spacy) (0.3.4)\n",
      "Requirement already satisfied: typer<0.10.0,>=0.3.0 in /home/pk/.local/lib/python3.12/site-packages (from spacy) (0.9.0)\n",
      "Requirement already satisfied: smart-open<7.0.0,>=5.2.1 in /home/pk/.local/lib/python3.12/site-packages (from spacy) (6.4.0)\n",
      "Requirement already satisfied: tqdm<5.0.0,>=4.38.0 in /home/pk/.local/lib/python3.12/site-packages (from spacy) (4.66.1)\n",
      "Requirement already satisfied: requests<3.0.0,>=2.13.0 in /home/pk/.local/lib/python3.12/site-packages (from spacy) (2.31.0)\n",
      "Requirement already satisfied: pydantic!=1.8,!=1.8.1,<3.0.0,>=1.7.4 in /usr/lib/python3.12/site-packages (from spacy) (1.10.14)\n",
      "Requirement already satisfied: jinja2 in /home/pk/.local/lib/python3.12/site-packages (from spacy) (3.1.3)\n",
      "Requirement already satisfied: setuptools in /usr/lib/python3.12/site-packages (from spacy) (67.7.2)\n",
      "Requirement already satisfied: packaging>=20.0 in /usr/lib/python3.12/site-packages (from spacy) (23.1)\n",
      "Requirement already satisfied: langcodes<4.0.0,>=3.2.0 in /home/pk/.local/lib/python3.12/site-packages (from spacy) (3.3.0)\n",
      "Requirement already satisfied: numpy>=1.19.0 in /home/pk/.local/lib/python3.12/site-packages (from spacy) (1.26.3)\n",
      "Requirement already satisfied: typing-extensions>=4.2.0 in /usr/lib/python3.12/site-packages (from pydantic!=1.8,!=1.8.1,<3.0.0,>=1.7.4->spacy) (4.8.0)\n",
      "Requirement already satisfied: charset-normalizer<4,>=2 in /usr/lib/python3.12/site-packages (from requests<3.0.0,>=2.13.0->spacy) (3.2.0)\n",
      "Requirement already satisfied: idna<4,>=2.5 in /usr/lib/python3.12/site-packages (from requests<3.0.0,>=2.13.0->spacy) (3.4)\n",
      "Requirement already satisfied: urllib3<3,>=1.21.1 in /usr/lib/python3.12/site-packages (from requests<3.0.0,>=2.13.0->spacy) (1.26.18)\n",
      "Requirement already satisfied: certifi>=2017.4.17 in /home/pk/.local/lib/python3.12/site-packages (from requests<3.0.0,>=2.13.0->spacy) (2024.2.2)\n",
      "Requirement already satisfied: blis<0.8.0,>=0.7.8 in /home/pk/.local/lib/python3.12/site-packages (from thinc<8.3.0,>=8.1.8->spacy) (0.7.11)\n",
      "Requirement already satisfied: confection<1.0.0,>=0.0.1 in /home/pk/.local/lib/python3.12/site-packages (from thinc<8.3.0,>=8.1.8->spacy) (0.1.4)\n",
      "Requirement already satisfied: click<9.0.0,>=7.1.1 in /usr/lib/python3.12/site-packages (from typer<0.10.0,>=0.3.0->spacy) (8.1.3)\n",
      "Requirement already satisfied: cloudpathlib<0.17.0,>=0.7.0 in /home/pk/.local/lib/python3.12/site-packages (from weasel<0.4.0,>=0.1.0->spacy) (0.16.0)\n",
      "Requirement already satisfied: MarkupSafe>=2.0 in /usr/lib64/python3.12/site-packages (from jinja2->spacy) (2.1.3)\n",
      "Note: you may need to restart the kernel to use updated packages.\n"
     ]
    }
   ],
   "source": [
    "pip install spacy"
   ]
  },
  {
   "cell_type": "code",
   "execution_count": 1,
   "metadata": {},
   "outputs": [],
   "source": [
    "import spacy\n",
    "from spacy.tokens import DocBin #,Doc, Span, Token\n",
    "import en_core_web_sm"
   ]
  },
  {
   "cell_type": "code",
   "execution_count": 2,
   "metadata": {},
   "outputs": [],
   "source": [
    "# Training Data\n",
    "org_data = [\n",
    "                {\n",
    "                    'text': 'I woke up this morning with a splitting headache.', \n",
    "                    'entities': [(40, 48, 'SYMPTOM')]\n",
    "                },\n",
    "                {\n",
    "                    'text': 'The patient presented with a high fever and persistent cough.', \n",
    "                    'entities': [(34, 39, 'SYMPTOM'), (55, 60, 'SYMPTOM')]\n",
    "                }, \n",
    "                {\n",
    "                    'text': 'She complained of fatigue and dizziness throughout the day.', \n",
    "                    'entities': [(18, 25, 'SYMPTOM'), (30, 39, 'SYMPTOM')]\n",
    "                }, \n",
    "                {\n",
    "                    'text': 'He experienced nausea and abdominal pain after eating a heavy meal.', \n",
    "                    'entities': [(15, 21, 'SYMPTOM'), (26, 40, 'SYMPTOM')]\n",
    "                }, \n",
    "                {\n",
    "                    'text': 'The shortness of breath became more severe during exercise.', \n",
    "                    'entities': [(4, 23, 'SYMPTOM')]\n",
    "                }, \n",
    "                {\n",
    "                    'text': 'I am having difficulty breathing and back pain', \n",
    "                    'entities': [(12, 32, 'SYMPTOM'), (37, 46, 'SYMPTOM')]\n",
    "                }\n",
    "            ]"
   ]
  },
  {
   "cell_type": "code",
   "execution_count": null,
   "metadata": {},
   "outputs": [],
   "source": [
    "#Convert and save training data to .spacy format\n",
    "\n",
    "#Function to convert training data to spaCy format\n",
    "def convert_to_spacy_format(data):\n",
    "    spacy_format = []\n",
    "    for item in data:\n",
    "        text = item[\"text\"]\n",
    "        entities = item[\"entities\"]\n",
    "        entities_formatted = []\n",
    "        for entity in entities:\n",
    "            start = entity[0]\n",
    "            end = entity[1]\n",
    "            label = entity[2]\n",
    "            entity_formatted = (start, end, label)\n",
    "            entities_formatted.append(entity_formatted)\n",
    "        spacy_item = (text, {\"entities\": entities_formatted})\n",
    "        spacy_format.append(spacy_item)\n",
    "    return spacy_format\n",
    "\n",
    "# Convert training data to spaCy format\n",
    "spacy_format = convert_to_spacy_format(org_data)\n",
    "\n",
    "# Load the language model\n",
    "nlp = en_core_web_sm.load()\n",
    "\n",
    "# Create a DocBin object\n",
    "docbin = DocBin()\n",
    "\n",
    "# Iterate over the data and add it to the DocBin\n",
    "for text, annotations in spacy_format:\n",
    "    doc = nlp.make_doc(text)\n",
    "    entities = annotations.get(\"entities\")\n",
    "    for start, end, label in entities:\n",
    "        span = doc.char_span(start, end, label=label)\n",
    "        if span is not None:\n",
    "            doc.ents = list(doc.ents) + [span]\n",
    "    docbin.add(doc)\n",
    "\n",
    "# Save the DocBin as a .spacy file\n",
    "output_path = \"/home/pk/Documents/SCI4000 FYP/Symptom Checker/test/new_model/spacy_training_data.spacy\"\n",
    "docbin.to_disk(output_path)\n",
    "\n",
    "print(\"Training data converted and saved to:\", output_path)\n"
   ]
  },
  {
   "cell_type": "code",
   "execution_count": 2,
   "metadata": {},
   "outputs": [],
   "source": []
  }
 ],
 "metadata": {
  "kernelspec": {
   "display_name": "Python 3",
   "language": "python",
   "name": "python3"
  },
  "language_info": {
   "codemirror_mode": {
    "name": "ipython",
    "version": 3
   },
   "file_extension": ".py",
   "mimetype": "text/x-python",
   "name": "python",
   "nbconvert_exporter": "python",
   "pygments_lexer": "ipython3",
   "version": "3.12.2"
  }
 },
 "nbformat": 4,
 "nbformat_minor": 2
}
